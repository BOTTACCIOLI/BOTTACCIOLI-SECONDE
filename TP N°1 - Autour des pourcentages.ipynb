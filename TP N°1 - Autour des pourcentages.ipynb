{
 "cells": [
  {
   "cell_type": "markdown",
   "metadata": {},
   "source": [
    "#          TP 1    :     Autour des pourcentages"
   ]
  },
  {
   "cell_type": "markdown",
   "metadata": {},
   "source": [
    "### 1. Calculer un coefficient multiplicateur à partir d'un taux donné"
   ]
  },
  {
   "cell_type": "markdown",
   "metadata": {},
   "source": [
    "Le calcul d'un CM nécessite l'utilisation d'une formule. Il est donc possible d'automatiser ce calcul dans le but de le faire faire directement à une machine en lui donnant les bonnes instructions : c'est le principe d'un algorithme. \n",
    "\n",
    "Par exemple, l'algorithme ci-dessous qui s'appelle $coeffmulti$ prend en entrée un taux noté $t$ et rend en sortie le CM correspondant noté $CM$."
   ]
  },
  {
   "cell_type": "code",
   "execution_count": 8,
   "metadata": {},
   "outputs": [],
   "source": [
    "def coeffmulti(t):\n",
    "    CM=1+t/100\n",
    "    print(CM)"
   ]
  },
  {
   "cell_type": "markdown",
   "metadata": {},
   "source": [
    "Pour utiliser un tel algorithme, il suffit de l'appeler par son nom (ici, $coeffmulti$ et de noter entre parenthèses la valeur que l'on veut donner à t. \n",
    "\n",
    "Par exemple, si je veux calculer le CM correspondant à une baisse de 30%, il faut taper : coeffmulti(-30)\n",
    "\n",
    "Faites cette manipulation dans la ligne ci-dessous. "
   ]
  },
  {
   "cell_type": "code",
   "execution_count": null,
   "metadata": {},
   "outputs": [],
   "source": []
  },
  {
   "cell_type": "markdown",
   "metadata": {},
   "source": [
    "Il est possible d'améliorer cet algorithme en y insérant du texte pour qu'il affiche une phrase réponse. Le texte doit alors être mis entre guillemets et il doit y avoir une virgule qui sépare ce texte de la variable à afficher. Cela donnerait donc :\n"
   ]
  },
  {
   "cell_type": "code",
   "execution_count": 6,
   "metadata": {},
   "outputs": [],
   "source": [
    "def coeffmulti(t):\n",
    "    CM=1+t/100\n",
    "    print(\"Le coefficient multiplicateur vaut\",CM)"
   ]
  },
  {
   "cell_type": "markdown",
   "metadata": {},
   "source": [
    "Utiliser cet algorithme dans la ligne ci-dessous pour calculer le CM associé à une hausse de 15%. "
   ]
  },
  {
   "cell_type": "code",
   "execution_count": null,
   "metadata": {},
   "outputs": [],
   "source": []
  },
  {
   "cell_type": "markdown",
   "metadata": {},
   "source": [
    "### 2. Calculer un taux à partir d'un coefficient multiplicateur donné"
   ]
  },
  {
   "cell_type": "markdown",
   "metadata": {},
   "source": [
    "En vous inspirant des algorithmes écrits ci-dessus, compléter les pointillés de celui ci-dessous qui prend en entrée un CM et qui calcule et rend en sortie le taux correspondant :"
   ]
  },
  {
   "cell_type": "code",
   "execution_count": 3,
   "metadata": {},
   "outputs": [],
   "source": [
    "def taux(...):\n",
    "    t=.....\n",
    "    print(...)"
   ]
  },
  {
   "cell_type": "markdown",
   "metadata": {},
   "source": [
    "Tester cet algorithme avec une valeur de votre choix :"
   ]
  },
  {
   "cell_type": "code",
   "execution_count": null,
   "metadata": {},
   "outputs": [],
   "source": []
  },
  {
   "cell_type": "markdown",
   "metadata": {},
   "source": [
    "Remarque : On peut décider du nombre de décimales que l'on veut dans le résultat grâce à la commande $round$.\n",
    "\n",
    "Pour cela, il suffit de taper $round(x,2)$ par exemple si on veut que $x$ soit affiché avec 2 décimales."
   ]
  },
  {
   "cell_type": "markdown",
   "metadata": {},
   "source": [
    "Compléter donc la ligne manquante de l'algorithme ci-dessous pour qu'il affiche le taux avec 1 décimale :"
   ]
  },
  {
   "cell_type": "code",
   "execution_count": null,
   "metadata": {},
   "outputs": [],
   "source": [
    "def taux(CM):\n",
    "    t=(CM-1)*100\n",
    "    t=round(t,..)\n",
    "    print(t)"
   ]
  },
  {
   "cell_type": "markdown",
   "metadata": {},
   "source": [
    "Tester cet algorithme avec une valeur de votre choix :"
   ]
  },
  {
   "cell_type": "code",
   "execution_count": null,
   "metadata": {},
   "outputs": [],
   "source": []
  },
  {
   "cell_type": "markdown",
   "metadata": {},
   "source": [
    "### 3. Calculer une valeur finale"
   ]
  },
  {
   "cell_type": "markdown",
   "metadata": {},
   "source": [
    "L'algorithme ci-dessous prend en entrée un taux (exprimé en pourcentages) et une valeur initiale et il calcule la valeur finale. \n",
    "\n",
    "Il ne fonctionne pas à cause de deux erreurs de syntaxe (oublis des symboles adaptés), corriger ces erreurs. "
   ]
  },
  {
   "cell_type": "code",
   "execution_count": 10,
   "metadata": {},
   "outputs": [
    {
     "ename": "SyntaxError",
     "evalue": "invalid syntax (<ipython-input-10-a987fce0025b>, line 1)",
     "output_type": "error",
     "traceback": [
      "\u001b[1;36m  File \u001b[1;32m\"<ipython-input-10-a987fce0025b>\"\u001b[1;36m, line \u001b[1;32m1\u001b[0m\n\u001b[1;33m    def valeurfinale(t,vi)\u001b[0m\n\u001b[1;37m                          ^\u001b[0m\n\u001b[1;31mSyntaxError\u001b[0m\u001b[1;31m:\u001b[0m invalid syntax\n"
     ]
    }
   ],
   "source": [
    "def valeurfinale(t,vi)\n",
    "    CM=1+t/100\n",
    "    valeurfinale=vi*CM\n",
    "    print('la valeur finale est' valeurfinale)"
   ]
  },
  {
   "cell_type": "markdown",
   "metadata": {},
   "source": [
    "Après l'avoir corrigé, utiliser cet algorithme pour calculer le prix soldé d'un article coûtant 150 € après 20% de remise. "
   ]
  },
  {
   "cell_type": "code",
   "execution_count": null,
   "metadata": {},
   "outputs": [],
   "source": []
  },
  {
   "cell_type": "markdown",
   "metadata": {},
   "source": [
    "### 4. Calculer une valeur initiale"
   ]
  },
  {
   "cell_type": "markdown",
   "metadata": {},
   "source": [
    "Ecrire un algorithme qui prend en entrée un taux et une valeur finale et qui calcule la valeur initiale"
   ]
  },
  {
   "cell_type": "code",
   "execution_count": null,
   "metadata": {},
   "outputs": [],
   "source": []
  },
  {
   "cell_type": "markdown",
   "metadata": {},
   "source": [
    "Utiliser cet algorithme pour calculer le prix non soldé d'un article coûtant 150 € après 20% de remise. "
   ]
  },
  {
   "cell_type": "code",
   "execution_count": null,
   "metadata": {},
   "outputs": [],
   "source": []
  },
  {
   "cell_type": "markdown",
   "metadata": {},
   "source": [
    "### 5. Calculer un taux global"
   ]
  },
  {
   "cell_type": "markdown",
   "metadata": {},
   "source": [
    "On considère l'algorithme ci-dessous :\n"
   ]
  },
  {
   "cell_type": "markdown",
   "metadata": {},
   "source": [
    "``` Python\n",
    "def tauxglobal(t1,t2):\n",
    "    CM1=1+t1/100\n",
    "    CM2=1+t2/100\n",
    "    CM=CM1*CM2\n",
    "    t=(CM-1)*100\n",
    "    print('Le taux global est de',t,'%')    \n",
    "```        "
   ]
  },
  {
   "cell_type": "markdown",
   "metadata": {},
   "source": [
    "Quel est le but de cet algorithme ? "
   ]
  },
  {
   "cell_type": "raw",
   "metadata": {},
   "source": []
  },
  {
   "cell_type": "markdown",
   "metadata": {},
   "source": [
    "Recopier cet algorithme ci-dessous :"
   ]
  },
  {
   "cell_type": "code",
   "execution_count": null,
   "metadata": {},
   "outputs": [],
   "source": []
  },
  {
   "cell_type": "markdown",
   "metadata": {},
   "source": [
    "Utiliser cet algorithme pour déterminer le taux global correspondant à deux évolutions successives de 30%"
   ]
  },
  {
   "cell_type": "code",
   "execution_count": null,
   "metadata": {},
   "outputs": [],
   "source": []
  },
  {
   "cell_type": "markdown",
   "metadata": {},
   "source": [
    "### 6. Calculer un taux réciproque"
   ]
  },
  {
   "cell_type": "markdown",
   "metadata": {},
   "source": [
    "On considère l'algorithme ci-dessous qui permet de calculer un taux réciproque lorsqu'un taux est donné. \n",
    "Compléter la dernière ligne pour que cet algorithme renvoie un affichage complet du style \"Le taux réciproque est de ...\"\n"
   ]
  },
  {
   "cell_type": "code",
   "execution_count": 2,
   "metadata": {},
   "outputs": [],
   "source": [
    "def tauxreciproque(t):\n",
    "    CM=1+t/100\n",
    "    CMr=1/CM\n",
    "    tr=(CMr-1)*100\n",
    "    print()"
   ]
  },
  {
   "cell_type": "markdown",
   "metadata": {},
   "source": [
    "Tester cet algorithme avec la valeur de votre choix :"
   ]
  },
  {
   "cell_type": "code",
   "execution_count": null,
   "metadata": {},
   "outputs": [],
   "source": []
  },
  {
   "cell_type": "markdown",
   "metadata": {},
   "source": [
    "\"Journée noire mercredi pour Airbus Group dont l'action a perdu 10,42% en bourse\". \n",
    "Utiliser l'algorithme que vous avez complété pour trouver l'évolution à appliquer qui permettra à l'action de retrouver sa valeur initiale. "
   ]
  },
  {
   "cell_type": "code",
   "execution_count": null,
   "metadata": {},
   "outputs": [],
   "source": []
  }
 ],
 "metadata": {
  "kernelspec": {
   "display_name": "Python 3",
   "language": "python",
   "name": "python3"
  },
  "language_info": {
   "codemirror_mode": {
    "name": "ipython",
    "version": 3
   },
   "file_extension": ".py",
   "mimetype": "text/x-python",
   "name": "python",
   "nbconvert_exporter": "python",
   "pygments_lexer": "ipython3",
   "version": "3.8.5"
  }
 },
 "nbformat": 4,
 "nbformat_minor": 4
}
