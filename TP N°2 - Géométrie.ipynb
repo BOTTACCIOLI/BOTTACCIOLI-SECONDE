{
 "cells": [
  {
   "cell_type": "markdown",
   "metadata": {},
   "source": [
    "# TP 2   :   Géométrie"
   ]
  },
  {
   "cell_type": "markdown",
   "metadata": {},
   "source": [
    "### 1. Distance "
   ]
  },
  {
   "cell_type": "markdown",
   "metadata": {},
   "source": [
    "Compléter les lignes 4 et 6 de l'algorithme ci-dessous dont le but est de calculer la distance entre deux points dans un repère orthonormé "
   ]
  },
  {
   "cell_type": "code",
   "execution_count": 1,
   "metadata": {},
   "outputs": [],
   "source": [
    "from math import * \n",
    "\n",
    "def distance(xA,yA,xB,yB):\n",
    "    distanceaucarré=\n",
    "    distance=sqrt(distanceaucarré)\n",
    "    print()"
   ]
  },
  {
   "cell_type": "markdown",
   "metadata": {},
   "source": [
    "Utiliser cet algorithme pour calculer la distance entre les points $A(2;3)$ et $B(4;1)$"
   ]
  },
  {
   "cell_type": "code",
   "execution_count": null,
   "metadata": {},
   "outputs": [],
   "source": []
  },
  {
   "cell_type": "markdown",
   "metadata": {},
   "source": [
    "On cherche maintenant à améliorer cet algorithme en donnant un arrondi au centième de la distance. Pour cela, on va utiliser la commande $round(..,..)$ où il faut mettre dans les parenthèses la quantité que l'on veut arrondir, puis le nombre de décimales souhaitées (séparées par une virgule). \n",
    "\n",
    "Recopier l'algorithme ci-dessus en y ajoutant cette commande en avant dernière ligne. "
   ]
  },
  {
   "cell_type": "code",
   "execution_count": null,
   "metadata": {},
   "outputs": [],
   "source": []
  },
  {
   "cell_type": "markdown",
   "metadata": {},
   "source": [
    "Tester cet algorithme pour calculer la distance entre les points $A(2;3)$ et $B(4;1)$"
   ]
  },
  {
   "cell_type": "code",
   "execution_count": null,
   "metadata": {},
   "outputs": [],
   "source": []
  },
  {
   "cell_type": "markdown",
   "metadata": {},
   "source": [
    "Modifier cet algorithme en ajoutant une phrase réponse dans la dernière ligne puis tester le de nouveau"
   ]
  },
  {
   "cell_type": "markdown",
   "metadata": {},
   "source": [
    "### 2. Milieu"
   ]
  },
  {
   "cell_type": "markdown",
   "metadata": {},
   "source": [
    "Compléter l'algorithme ci-dessous pour qu'il calcule et affiche (avec une phrase) les coordonnées du milieu $I$ du segment $[AB]$ :"
   ]
  },
  {
   "cell_type": "code",
   "execution_count": null,
   "metadata": {},
   "outputs": [],
   "source": [
    "def milieu():\n",
    "    xI=\n",
    "    yI=\n",
    "    print()"
   ]
  },
  {
   "cell_type": "markdown",
   "metadata": {},
   "source": [
    "Tester cet algorithme avec les points $A(2;3)$ et $B(4;1)$"
   ]
  },
  {
   "cell_type": "code",
   "execution_count": null,
   "metadata": {},
   "outputs": [],
   "source": []
  },
  {
   "cell_type": "markdown",
   "metadata": {},
   "source": [
    "### 3. Créer des algorithmes qui font des tests : l'instruction conditionnelle (si, alors, sinon)"
   ]
  },
  {
   "cell_type": "markdown",
   "metadata": {},
   "source": [
    "Le but de l'algorithme ci-dessous est de savoir si un certain point $M$ dont on donne les coordonnées appartient ou pas à la médiatrice du segment $[AB]$.\n",
    "\n",
    "Compléter les lignes 2, 3, 7 et 9 :"
   ]
  },
  {
   "cell_type": "code",
   "execution_count": 18,
   "metadata": {},
   "outputs": [],
   "source": [
    "from math import * \n",
    "\n",
    "def testmédiatrice(xA,yA,xB,yB,xM,yM):\n",
    "    distanceAMaucarré=\n",
    "    distanceAM=\n",
    "    distanceBMaucarré=(xM-xB)**2+(yM-yB)**2\n",
    "    distanceBM=sqrt(distanceBMaucarré)\n",
    "    if distanceAM==distanceBM:\n",
    "        print()\n",
    "    else:\n",
    "        print()"
   ]
  },
  {
   "cell_type": "markdown",
   "metadata": {},
   "source": [
    "Utiliser cet algorithme pour savoir si le point $M(-1;6)$ appartient à la médiatrice de $[AB]$ avec $A(-2,1)$ et $B(2;3)$ :"
   ]
  },
  {
   "cell_type": "code",
   "execution_count": null,
   "metadata": {},
   "outputs": [],
   "source": []
  },
  {
   "cell_type": "markdown",
   "metadata": {},
   "source": [
    "Utiliser cet algorithme pour savoir si le point $M(-2;6)$ appartient à la médiatrice de $[AB]$ avec $A(-2,1)$ et $B(2;3)$ :"
   ]
  },
  {
   "cell_type": "code",
   "execution_count": null,
   "metadata": {},
   "outputs": [],
   "source": []
  },
  {
   "cell_type": "markdown",
   "metadata": {},
   "source": [
    "\n",
    "<span style='color:red'>**$$A \\hspace{0.3cm} RETENIR$$**</span> \n",
    "\n",
    "\n",
    "<span style='color:red'>**En langage Python, il ne faut pas confondre l'instruction \"x=3\" qui correspond à une \"affectation\" (on dit que x vaut 3) avec l'instruction \"x==3\" qui correspond à un test (est-ce que x vaut 3 ?)**</span> "
   ]
  },
  {
   "cell_type": "markdown",
   "metadata": {},
   "source": [
    "Le but de l'algorithme suivant est de savoir si un quadrilatère $ABCD$ est un parallélogramme ou pas. \n",
    "\n",
    "Pour cela, on va calculer les coordonnées du milieu de chaque diagonale puis les comparer pour voir si les diagonales se coupent en leurs milieux ou pas. \n",
    "\n",
    "Compléter l'algorithme suivant :"
   ]
  },
  {
   "cell_type": "code",
   "execution_count": 3,
   "metadata": {},
   "outputs": [
    {
     "ename": "SyntaxError",
     "evalue": "invalid syntax (<ipython-input-3-d9e044c5e6fe>, line 1)",
     "output_type": "error",
     "traceback": [
      "\u001b[1;36m  File \u001b[1;32m\"<ipython-input-3-d9e044c5e6fe>\"\u001b[1;36m, line \u001b[1;32m1\u001b[0m\n\u001b[1;33m    def ...(xA,yA,xB,yB,xC,yC,xD,yD):\u001b[0m\n\u001b[1;37m        ^\u001b[0m\n\u001b[1;31mSyntaxError\u001b[0m\u001b[1;31m:\u001b[0m invalid syntax\n"
     ]
    }
   ],
   "source": [
    "def ...(xA,yA,xB,yB,xC,yC,xD,yD):\n",
    "    xI=\n",
    "    yI=\n",
    "    xJ=\n",
    "    yJ=\n",
    "    if ..... and .....:\n",
    "        print()\n",
    "    .....\n",
    "    ....."
   ]
  },
  {
   "cell_type": "markdown",
   "metadata": {},
   "source": [
    "On considère les points $A(8;3),  B(7;1),  C(4;4)$ et $D(5;6)$.\n",
    "\n",
    "Est-ce que $ABCD$ est un parallélogramme ? "
   ]
  },
  {
   "cell_type": "code",
   "execution_count": null,
   "metadata": {},
   "outputs": [],
   "source": []
  },
  {
   "cell_type": "markdown",
   "metadata": {},
   "source": [
    "On considère les points $A(8;3),  B(-7;1),  C(4;-4)$ et $D(5;6)$.\n",
    "\n",
    "Est-ce que $ABCD$ est un parallélogramme ? "
   ]
  },
  {
   "cell_type": "code",
   "execution_count": null,
   "metadata": {},
   "outputs": [],
   "source": []
  }
 ],
 "metadata": {
  "kernelspec": {
   "display_name": "Python 3",
   "language": "python",
   "name": "python3"
  },
  "language_info": {
   "codemirror_mode": {
    "name": "ipython",
    "version": 3
   },
   "file_extension": ".py",
   "mimetype": "text/x-python",
   "name": "python",
   "nbconvert_exporter": "python",
   "pygments_lexer": "ipython3",
   "version": "3.8.5"
  }
 },
 "nbformat": 4,
 "nbformat_minor": 4
}
