{
 "cells": [
  {
   "cell_type": "markdown",
   "metadata": {},
   "source": [
    "# TP 5 :  Simulations et probabilités"
   ]
  },
  {
   "cell_type": "markdown",
   "metadata": {},
   "source": [
    "## Objectif n°1 : créer une pièce de monnaie"
   ]
  },
  {
   "cell_type": "markdown",
   "metadata": {},
   "source": [
    "On considère l'algorithme ci-dessous en langage Python. Exécutez-le $plusieurs$ fois (une fois dans chaque ligne mise à disposition)."
   ]
  },
  {
   "cell_type": "code",
   "execution_count": null,
   "metadata": {},
   "outputs": [],
   "source": [
    "from random import *\n",
    "\n",
    "def algo():\n",
    "    x=randint(0,1)\n",
    "    return(x)"
   ]
  },
  {
   "cell_type": "code",
   "execution_count": null,
   "metadata": {},
   "outputs": [],
   "source": []
  },
  {
   "cell_type": "code",
   "execution_count": null,
   "metadata": {},
   "outputs": [],
   "source": []
  },
  {
   "cell_type": "code",
   "execution_count": null,
   "metadata": {},
   "outputs": [],
   "source": []
  },
  {
   "cell_type": "code",
   "execution_count": null,
   "metadata": {},
   "outputs": [],
   "source": []
  },
  {
   "cell_type": "code",
   "execution_count": null,
   "metadata": {},
   "outputs": [],
   "source": []
  },
  {
   "cell_type": "code",
   "execution_count": null,
   "metadata": {},
   "outputs": [],
   "source": []
  },
  {
   "cell_type": "markdown",
   "metadata": {},
   "source": [
    "Quels sont les résultats obtenus ? Que remarque-t-on ? "
   ]
  },
  {
   "cell_type": "markdown",
   "metadata": {},
   "source": []
  },
  {
   "cell_type": "markdown",
   "metadata": {},
   "source": [
    "Comment dit-on \"hasard\" en anglais ? "
   ]
  },
  {
   "cell_type": "markdown",
   "metadata": {},
   "source": []
  },
  {
   "cell_type": "markdown",
   "metadata": {},
   "source": [
    "Comment dit-on \"nombre entier\" en anglais ? "
   ]
  },
  {
   "cell_type": "markdown",
   "metadata": {},
   "source": []
  },
  {
   "cell_type": "markdown",
   "metadata": {},
   "source": [
    "## <span style='color:red'>**$$A \\hspace{0.3cm} RETENIR$$**</span> \n",
    "\n",
    "La commande <span style='color:red'>**randint(a,b)**</span> renvoie un entier au hasard compris entre a et b.\n",
    "\n",
    "ATTENTION : Pour pouvoir faire appel à cette commande, il faut \"charger la bilbiothèque contenant toutes les instructions sur les probabilités\", c'est pourquoi, tous les algorithmes de ce TP **commenceront toujours** par <span style='color:red'>from random import *</span>\n",
    "\n",
    "La commande <span style='color:red'>**randint(0,1)**</span>  va donc nous permettre de <span style='color:red'>**simuler le lancer d'une pièce**</span> en admettant que si **le résultat est 0**, alors cela **correspondra à pile** et si **le résultat est 1**, alors cela **correspondra à face** (on aurait très bien pu dire le contraire sans que cela ne change rien). "
   ]
  },
  {
   "cell_type": "markdown",
   "metadata": {},
   "source": [
    "## Objectif n°2 : Simuler le lancer de 5 pièces"
   ]
  },
  {
   "cell_type": "markdown",
   "metadata": {},
   "source": [
    "On va maintenant chercher à simuler le lancer de 5 pièces et pour cela, on va reprendre la commande \"randint(0,1) en y ajoutant une boucle \"pour\" afin de traduire la notion de répétition. \n",
    "\n",
    "Exécutez plusieurs fois l'algorithme ci-dessous :"
   ]
  },
  {
   "cell_type": "code",
   "execution_count": null,
   "metadata": {},
   "outputs": [],
   "source": [
    "from random import *\n",
    "\n",
    "def lancer5pièces():\n",
    "    for k in range (1,6):\n",
    "        x=randint(0,1)\n",
    "        print(x)"
   ]
  },
  {
   "cell_type": "code",
   "execution_count": null,
   "metadata": {},
   "outputs": [],
   "source": []
  },
  {
   "cell_type": "markdown",
   "metadata": {},
   "source": [
    "Traduire le résultat de ce lancer en terme de \"pile\" et \"face\""
   ]
  },
  {
   "cell_type": "markdown",
   "metadata": {},
   "source": []
  },
  {
   "cell_type": "markdown",
   "metadata": {},
   "source": [
    "## Objectif n°3 : Ajouter un compteur\n",
    "\n",
    "On va reprendre l'algorithme précédent sur lequel on va créer un **compteur** que l'on va noter **s** et dont le principe est le suivant :\n",
    "\n",
    "Au début, ce compteur vaut 0.      \n",
    "A chaque itération (c'est-à-dire chaque étape ou encore chaque passage dans la boucle), **on ajoute x au compteur** où x représente le résultat du lancer de la pièce.\n",
    "\n",
    "--- > si x=1 (c'est-à-dire si la pièce est tombée sur face), alors la somme augmente de 1\n",
    "\n",
    "---> si x=0 (la pièce est tombée sur pile), alors la somme ne change pas \n",
    "\n",
    "La somme trouvée à la fin correspond donc au nombre de \"face\" obtenus."
   ]
  },
  {
   "cell_type": "markdown",
   "metadata": {},
   "source": [
    "Exécutez l'algorithme ci-dessous :"
   ]
  },
  {
   "cell_type": "code",
   "execution_count": 1,
   "metadata": {},
   "outputs": [],
   "source": [
    "from random import *\n",
    "\n",
    "def simulation():\n",
    "    s=0\n",
    "    for k in range (1,6):\n",
    "        x=randint(0,1)\n",
    "        s=s+x\n",
    "    return(s)"
   ]
  },
  {
   "cell_type": "code",
   "execution_count": null,
   "metadata": {},
   "outputs": [],
   "source": []
  },
  {
   "cell_type": "markdown",
   "metadata": {},
   "source": [
    "Combien vaut alors la fréquence de \"face\" obtenus ?"
   ]
  },
  {
   "cell_type": "markdown",
   "metadata": {},
   "source": []
  },
  {
   "cell_type": "markdown",
   "metadata": {},
   "source": [
    "Recopier l'algorithme <span style='color:blue'>**simulation**</span> en modifiant la dernière ligne pour qu'il affiche directement la fréquence et **non pas le nombre** de \"face\" obtenus puis testez-le :"
   ]
  },
  {
   "cell_type": "code",
   "execution_count": null,
   "metadata": {},
   "outputs": [],
   "source": []
  },
  {
   "cell_type": "code",
   "execution_count": null,
   "metadata": {},
   "outputs": [],
   "source": []
  },
  {
   "cell_type": "markdown",
   "metadata": {},
   "source": [
    "## Objectif n°4 : Simuler le lancer de n pièces"
   ]
  },
  {
   "cell_type": "markdown",
   "metadata": {},
   "source": [
    "Recopier l'algorithme <span style='color:blue'>**simulation**</span> en le modifiant pour qu'il calcule la fréquence de \"face\" obtenus lors du lancer de n pièces et non plus de 5 pièces :"
   ]
  },
  {
   "cell_type": "code",
   "execution_count": null,
   "metadata": {},
   "outputs": [],
   "source": []
  },
  {
   "cell_type": "markdown",
   "metadata": {},
   "source": [
    "Exécuter cet algorithme avec 10 puis 50 puis 100, puis 1000 lancers :"
   ]
  },
  {
   "cell_type": "markdown",
   "metadata": {},
   "source": [
    "Avec 10 lancers :"
   ]
  },
  {
   "cell_type": "code",
   "execution_count": null,
   "metadata": {},
   "outputs": [],
   "source": []
  },
  {
   "cell_type": "markdown",
   "metadata": {},
   "source": [
    "Avec 50 lancers :"
   ]
  },
  {
   "cell_type": "code",
   "execution_count": null,
   "metadata": {},
   "outputs": [],
   "source": []
  },
  {
   "cell_type": "markdown",
   "metadata": {},
   "source": [
    "Avec 100 lancers :"
   ]
  },
  {
   "cell_type": "code",
   "execution_count": null,
   "metadata": {},
   "outputs": [],
   "source": []
  },
  {
   "cell_type": "markdown",
   "metadata": {},
   "source": [
    "Avec 1000 lancers :"
   ]
  },
  {
   "cell_type": "code",
   "execution_count": null,
   "metadata": {},
   "outputs": [],
   "source": []
  },
  {
   "cell_type": "markdown",
   "metadata": {},
   "source": [
    "Est-ce que la fréquence de tomber sur \"face\" est de 0,5 ? \n",
    "\n",
    "A quelle condition en est-elle proche ? "
   ]
  },
  {
   "cell_type": "markdown",
   "metadata": {},
   "source": []
  },
  {
   "cell_type": "markdown",
   "metadata": {},
   "source": [
    "## <span style='color:red'>**$$A \\hspace{0.3cm} RETENIR$$**</span> \n",
    "\n",
    "Les fréquences sont des valeurs expérimentales alors que les probabilités sont des valeurs théoriques. \n",
    "\n",
    "Lorsqu'on lance une pièce de monnaie, la probabilité d'obtenir \"face\" est de 0,5 mais cela ne signifie pas pour autant que si on fait 30 lancers, on va forcément obtenir 15 fois \"face\". \n",
    "\n",
    "En effet, on a remarqué que la fréquence de tomber sur \"face\" n'est pas de 0,5 mais qu'elle en est proche et que plus le nombre de lancers est grand et plus la fréquence tend vers 0,5 qui est la valeur théorique (la probabilité). \n",
    "\n",
    "Ce résultat, constaté ici sur un exemple porte un nom et s'appelle la loi des grands nombres. \n",
    "\n",
    "<span style='color:red'>**Propriété : [Loi des grands nombres]**</span>\n",
    "Les distributions de fréquences obtenues dans une série statistique de taille n se rapprochent de la loi de probabilité lorsque n devient grand. \n",
    "\n"
   ]
  },
  {
   "cell_type": "markdown",
   "metadata": {},
   "source": [
    "## Objectif n°5 : Adaptation au lancer de dés"
   ]
  },
  {
   "cell_type": "markdown",
   "metadata": {},
   "source": [
    "Si on veut simuler le lancer d'un dé, cela revient donc à demander un nombre entier aléatoire entre 1 et 6. Quelle commande faudrait-il donc saisir ? "
   ]
  },
  {
   "cell_type": "code",
   "execution_count": null,
   "metadata": {},
   "outputs": [],
   "source": []
  },
  {
   "cell_type": "markdown",
   "metadata": {},
   "source": [
    "Exécutez l'algorithme ci-dessous dans le cas du lancer de 10 000 dés :"
   ]
  },
  {
   "cell_type": "code",
   "execution_count": null,
   "metadata": {},
   "outputs": [],
   "source": [
    "from random import *\n",
    "\n",
    "def simulationdé(n):\n",
    "    s=0\n",
    "    for k in range (1,n+1):\n",
    "        x=randint(1,6)\n",
    "        if x==4:\n",
    "            s=s+1\n",
    "    return(s/n)"
   ]
  },
  {
   "cell_type": "code",
   "execution_count": null,
   "metadata": {},
   "outputs": [],
   "source": []
  },
  {
   "cell_type": "markdown",
   "metadata": {},
   "source": [
    "Comparer cette valeur expérimentale obtenue sur un exemple avec la probabilité théorique. "
   ]
  },
  {
   "cell_type": "markdown",
   "metadata": {},
   "source": []
  }
 ],
 "metadata": {
  "kernelspec": {
   "display_name": "Python 3",
   "language": "python",
   "name": "python3"
  },
  "language_info": {
   "codemirror_mode": {
    "name": "ipython",
    "version": 3
   },
   "file_extension": ".py",
   "mimetype": "text/x-python",
   "name": "python",
   "nbconvert_exporter": "python",
   "pygments_lexer": "ipython3",
   "version": "3.8.5"
  }
 },
 "nbformat": 4,
 "nbformat_minor": 4
}
