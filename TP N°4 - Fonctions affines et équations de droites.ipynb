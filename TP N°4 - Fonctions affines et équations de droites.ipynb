{
 "cells": [
  {
   "cell_type": "markdown",
   "metadata": {},
   "source": [
    "# TP 4 : Fonctions affines et équations de droites"
   ]
  },
  {
   "cell_type": "markdown",
   "metadata": {},
   "source": [
    "## Exemple 1 : "
   ]
  },
  {
   "cell_type": "markdown",
   "metadata": {},
   "source": [
    "Complétez l'algorithme ci-dessous dont le but est de calculer le coefficient directeur d'une fonction $f$ (penser à faire afficher une phrase réponse) puis testez-le avec les points les points $A(2;3)$ et $B(-1;5)$: "
   ]
  },
  {
   "cell_type": "code",
   "execution_count": null,
   "metadata": {},
   "outputs": [],
   "source": [
    "def coeffdir():\n",
    "    a=\n",
    "    print()"
   ]
  },
  {
   "cell_type": "markdown",
   "metadata": {},
   "source": []
  },
  {
   "cell_type": "markdown",
   "metadata": {},
   "source": [
    "On aimerait améliorer cet algorithme afin qu'il nous réponde, en plus, que la droite est horizontale si on trouve que son coefficient directeur vaut 0. \n",
    "\n",
    "Pour cela, il va falloir introduire une instruction conditionnelle (if). Compléter alors l'algorithme ci-dessous puis testez-le avec les points  $A(2;3)$ et $B(-1;3)$: "
   ]
  },
  {
   "cell_type": "code",
   "execution_count": null,
   "metadata": {},
   "outputs": [],
   "source": [
    "def       :\n",
    "    a=\n",
    "    if a=0:\n",
    "        print\n",
    "    else:\n",
    "        print"
   ]
  },
  {
   "cell_type": "code",
   "execution_count": null,
   "metadata": {},
   "outputs": [],
   "source": []
  },
  {
   "cell_type": "markdown",
   "metadata": {},
   "source": [
    "## Exemple 2 :\n",
    "\n",
    "On considère maintenant la droite $(AB)$ avec $A(5;2)$ et $B(5;-3)$. Qu'est-ce que cette droite a de particulier ? "
   ]
  },
  {
   "cell_type": "markdown",
   "metadata": {},
   "source": []
  },
  {
   "cell_type": "markdown",
   "metadata": {},
   "source": [
    "L'algorithme du début qui calcule le coefficient directeur d'une droite ne fonctionnerait donc pas. On va donc chercher à le modifier pour qu'il tienne compte de cette situation et qu'il calcule et renvoie le coefficient directeur lorsque cela est possible. \n",
    "\n",
    "Complétez l'algorithme ci-dessous puis testez-le avec les points $𝐴(5;2)$ et $𝐵(5;−3)$ :"
   ]
  },
  {
   "cell_type": "code",
   "execution_count": null,
   "metadata": {},
   "outputs": [],
   "source": [
    "def coeffdir():\n",
    "    if xA==xB:\n",
    "        print\n",
    "    else:\n",
    "        "
   ]
  },
  {
   "cell_type": "code",
   "execution_count": null,
   "metadata": {},
   "outputs": [],
   "source": []
  },
  {
   "cell_type": "markdown",
   "metadata": {},
   "source": [
    "## Exemple 3 : \n",
    "\n",
    "On cherche maintenant à obtenir l'expression complète d'une fonction affine, et non pas seulement son coefficient directeur. \n",
    "\n",
    "On considère ici la fonction affine $f$ dont la courbe est une droite qui passe par les points $A(2;3)$ et $B(-1;5)$\n",
    "\n",
    "Déterminer, sur votre brouillon, l'expression complète de $f$ et indiquer votre réponse ci-dessous :"
   ]
  },
  {
   "cell_type": "markdown",
   "metadata": {},
   "source": []
  },
  {
   "cell_type": "markdown",
   "metadata": {},
   "source": [
    "Complétez l'algorithme suivant qui prend en entrée les coordonnées de deux points et qui rend en sortie l'expression de la fonction affine dont la courbe passe par ces deux points, puis testez-le avec les points $A(2;3)$ et $B(-1;5)$ :"
   ]
  },
  {
   "cell_type": "code",
   "execution_count": null,
   "metadata": {},
   "outputs": [],
   "source": [
    "def expression():\n",
    "    a=\n",
    "    b=\n",
    "    print(\"L'expression de la fonction f est \")"
   ]
  },
  {
   "cell_type": "code",
   "execution_count": null,
   "metadata": {},
   "outputs": [],
   "source": []
  },
  {
   "cell_type": "markdown",
   "metadata": {},
   "source": [
    "## Bilan"
   ]
  },
  {
   "cell_type": "markdown",
   "metadata": {},
   "source": [
    "A RETENIR :\n",
    "\n",
    "Une droite peut être soit verticale, soit horizontale, soit oblique. \n",
    "\n",
    "Dans le premier cas, ça ne peut pas être la courbe d'une fonction affine et son équation est alors sous une forme différente : $x=constante$.\n",
    "\n",
    "Dans le second cas, l'équation de la droite est de la forme $y=constante$   (car le coefficient directeur vaut 0).\n",
    "\n",
    "Dans le troisième cas, l'équation de la droite est de la forme $y=ax+b$"
   ]
  },
  {
   "cell_type": "markdown",
   "metadata": {},
   "source": [
    "On cherche donc à résumer ces trois cas dans un seul et même algorithme. \n",
    "\n",
    "Complétez l'algorithme ci-dessous puis testez-le avec les valeurs de votre choix. \n",
    "\n",
    "Remarque : on pourra ajouter une instruction du type \"round\" pour obtenir des arrondis des coefficients $a$ et $b$ si besoin. "
   ]
  },
  {
   "cell_type": "code",
   "execution_count": 2,
   "metadata": {},
   "outputs": [],
   "source": [
    "def equation(xA, yA, xB, yB):\n",
    "    if xA==xB:\n",
    "        print(\"La droite est verticale et son équation est x=\",xA)\n",
    "    elif yA==yB:\n",
    "         print(\"La droite est horizontale et son équation est y=\",yA)\n",
    "    else :\n",
    "        a=(yB-yA)/(xB-xA)\n",
    "        b=yB-a*xB\n",
    "        print(\"La droite est oblique et son équation est y=\",a,\"x +\",b)"
   ]
  },
  {
   "cell_type": "code",
   "execution_count": null,
   "metadata": {},
   "outputs": [],
   "source": []
  },
  {
   "cell_type": "code",
   "execution_count": null,
   "metadata": {},
   "outputs": [],
   "source": []
  },
  {
   "cell_type": "code",
   "execution_count": null,
   "metadata": {},
   "outputs": [],
   "source": []
  }
 ],
 "metadata": {
  "kernelspec": {
   "display_name": "Python 3",
   "language": "python",
   "name": "python3"
  },
  "language_info": {
   "codemirror_mode": {
    "name": "ipython",
    "version": 3
   },
   "file_extension": ".py",
   "mimetype": "text/x-python",
   "name": "python",
   "nbconvert_exporter": "python",
   "pygments_lexer": "ipython3",
   "version": "3.8.5"
  }
 },
 "nbformat": 4,
 "nbformat_minor": 4
}
